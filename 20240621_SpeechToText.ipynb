{
  "nbformat": 4,
  "nbformat_minor": 0,
  "metadata": {
    "colab": {
      "provenance": [],
      "authorship_tag": "ABX9TyNT4zRkz+YV1SOXGHD/A9Yv",
      "include_colab_link": true
    },
    "kernelspec": {
      "name": "python3",
      "display_name": "Python 3"
    },
    "language_info": {
      "name": "python"
    }
  },
  "cells": [
    {
      "cell_type": "markdown",
      "metadata": {
        "id": "view-in-github",
        "colab_type": "text"
      },
      "source": [
        "<a href=\"https://colab.research.google.com/github/manuelarguelles/whatsapp-audio-to-text/blob/main/20240621_SpeechToText.ipynb\" target=\"_parent\"><img src=\"https://colab.research.google.com/assets/colab-badge.svg\" alt=\"Open In Colab\"/></a>"
      ]
    },
    {
      "cell_type": "code",
      "execution_count": null,
      "metadata": {
        "colab": {
          "base_uri": "https://localhost:8080/"
        },
        "id": "ALOcknMhz6qh",
        "outputId": "c2b92a58-aff2-4626-d325-f25369b26896"
      },
      "outputs": [
        {
          "output_type": "stream",
          "name": "stdout",
          "text": [
            "Collecting speechrecognition\n",
            "  Downloading SpeechRecognition-3.10.4-py2.py3-none-any.whl (32.8 MB)\n",
            "\u001b[2K     \u001b[90m━━━━━━━━━━━━━━━━━━━━━━━━━━━━━━━━━━━━━━━━\u001b[0m \u001b[32m32.8/32.8 MB\u001b[0m \u001b[31m2.0 MB/s\u001b[0m eta \u001b[36m0:00:00\u001b[0m\n",
            "\u001b[?25hCollecting pydub\n",
            "  Downloading pydub-0.25.1-py2.py3-none-any.whl (32 kB)\n",
            "Requirement already satisfied: requests>=2.26.0 in /usr/local/lib/python3.10/dist-packages (from speechrecognition) (2.31.0)\n",
            "Requirement already satisfied: typing-extensions in /usr/local/lib/python3.10/dist-packages (from speechrecognition) (4.12.2)\n",
            "Requirement already satisfied: charset-normalizer<4,>=2 in /usr/local/lib/python3.10/dist-packages (from requests>=2.26.0->speechrecognition) (3.3.2)\n",
            "Requirement already satisfied: idna<4,>=2.5 in /usr/local/lib/python3.10/dist-packages (from requests>=2.26.0->speechrecognition) (3.7)\n",
            "Requirement already satisfied: urllib3<3,>=1.21.1 in /usr/local/lib/python3.10/dist-packages (from requests>=2.26.0->speechrecognition) (2.0.7)\n",
            "Requirement already satisfied: certifi>=2017.4.17 in /usr/local/lib/python3.10/dist-packages (from requests>=2.26.0->speechrecognition) (2024.6.2)\n",
            "Installing collected packages: pydub, speechrecognition\n",
            "Successfully installed pydub-0.25.1 speechrecognition-3.10.4\n"
          ]
        }
      ],
      "source": [
        "pip install speechrecognition pydub"
      ]
    },
    {
      "cell_type": "code",
      "source": [
        "import speech_recognition as sr\n",
        "from pydub import AudioSegment\n",
        "\n",
        "# Convertir archivo de .ogg a .wav\n",
        "audio = AudioSegment.from_ogg(\"/content/Audio.ogg\")\n",
        "audio.export(\"/content/audio.wav\", format=\"wav\")\n",
        "\n",
        "# Inicializar el reconocedor\n",
        "recognizer = sr.Recognizer()\n",
        "\n",
        "# Cargar el archivo de audio\n",
        "with sr.AudioFile(\"/content/audio.wav\") as source:\n",
        "    audio_data = recognizer.record(source)\n",
        "    try:\n",
        "        # Reconocer el discurso utilizando Google Web Speech API\n",
        "        text = recognizer.recognize_google(audio_data, language=\"es-ES\")\n",
        "        print(\"Texto reconocido:\", text)\n",
        "    except sr.UnknownValueError:\n",
        "        print(\"No se pudo entender el audio.\")\n",
        "    except sr.RequestError:\n",
        "        print(\"Error en el servicio de reconocimiento de voz.\")\n"
      ],
      "metadata": {
        "id": "06UZODVmz-B1"
      },
      "execution_count": null,
      "outputs": []
    }
  ]
}